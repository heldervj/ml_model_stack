{
 "cells": [
  {
   "cell_type": "markdown",
   "id": "frank-event",
   "metadata": {},
   "source": [
    "# Detecção de sentimento pelo twitter"
   ]
  },
  {
   "cell_type": "markdown",
   "id": "imperial-illustration",
   "metadata": {},
   "source": [
    "- Dados envolvendo Minas Gerais/MG\n",
    "- Dataset tem alguns dados em espanhol\n",
    "- Envolve política, o que pode enviesar a análise\n",
    "- Existem vogais acentuadas no texto"
   ]
  },
  {
   "cell_type": "code",
   "execution_count": 1,
   "id": "loaded-tennis",
   "metadata": {},
   "outputs": [],
   "source": [
    "import pandas as pd\n",
    "from tqdm import tqdm"
   ]
  },
  {
   "cell_type": "code",
   "execution_count": 2,
   "id": "south-arbor",
   "metadata": {},
   "outputs": [
    {
     "name": "stdout",
     "output_type": "stream",
     "text": [
      "(8199, 6)\n"
     ]
    },
    {
     "data": {
      "text/html": [
       "<div>\n",
       "<style scoped>\n",
       "    .dataframe tbody tr th:only-of-type {\n",
       "        vertical-align: middle;\n",
       "    }\n",
       "\n",
       "    .dataframe tbody tr th {\n",
       "        vertical-align: top;\n",
       "    }\n",
       "\n",
       "    .dataframe thead th {\n",
       "        text-align: right;\n",
       "    }\n",
       "</style>\n",
       "<table border=\"1\" class=\"dataframe\">\n",
       "  <thead>\n",
       "    <tr style=\"text-align: right;\">\n",
       "      <th></th>\n",
       "      <th>Created At</th>\n",
       "      <th>Text</th>\n",
       "      <th>Username</th>\n",
       "      <th>User Screen Name</th>\n",
       "      <th>Retweet Count</th>\n",
       "      <th>Classificacao</th>\n",
       "    </tr>\n",
       "  </thead>\n",
       "  <tbody>\n",
       "    <tr>\n",
       "      <th>0</th>\n",
       "      <td>Sun Jan 08 01:22:05 +0000 2017</td>\n",
       "      <td>���⛪ @ Catedral de Santo Antônio - Governador ...</td>\n",
       "      <td>Leonardo C Schneider</td>\n",
       "      <td>LeoCSchneider</td>\n",
       "      <td>0</td>\n",
       "      <td>Neutro</td>\n",
       "    </tr>\n",
       "    <tr>\n",
       "      <th>1</th>\n",
       "      <td>Sun Jan 08 01:49:01 +0000 2017</td>\n",
       "      <td>� @ Governador Valadares, Minas Gerais https:/...</td>\n",
       "      <td>Wândell</td>\n",
       "      <td>klefnews</td>\n",
       "      <td>0</td>\n",
       "      <td>Neutro</td>\n",
       "    </tr>\n",
       "    <tr>\n",
       "      <th>2</th>\n",
       "      <td>Sun Jan 08 01:01:46 +0000 2017</td>\n",
       "      <td>�� @ Governador Valadares, Minas Gerais https:...</td>\n",
       "      <td>Wândell</td>\n",
       "      <td>klefnews</td>\n",
       "      <td>0</td>\n",
       "      <td>Neutro</td>\n",
       "    </tr>\n",
       "    <tr>\n",
       "      <th>3</th>\n",
       "      <td>Wed Jan 04 21:43:51 +0000 2017</td>\n",
       "      <td>��� https://t.co/BnDsO34qK0</td>\n",
       "      <td>Ana estudando</td>\n",
       "      <td>estudandoconcur</td>\n",
       "      <td>0</td>\n",
       "      <td>Neutro</td>\n",
       "    </tr>\n",
       "    <tr>\n",
       "      <th>4</th>\n",
       "      <td>Mon Jan 09 15:08:21 +0000 2017</td>\n",
       "      <td>��� PSOL vai questionar aumento de vereadores ...</td>\n",
       "      <td>Emily</td>\n",
       "      <td>Milly777</td>\n",
       "      <td>0</td>\n",
       "      <td>Negativo</td>\n",
       "    </tr>\n",
       "  </tbody>\n",
       "</table>\n",
       "</div>"
      ],
      "text/plain": [
       "                       Created At  \\\n",
       "0  Sun Jan 08 01:22:05 +0000 2017   \n",
       "1  Sun Jan 08 01:49:01 +0000 2017   \n",
       "2  Sun Jan 08 01:01:46 +0000 2017   \n",
       "3  Wed Jan 04 21:43:51 +0000 2017   \n",
       "4  Mon Jan 09 15:08:21 +0000 2017   \n",
       "\n",
       "                                                Text              Username  \\\n",
       "0  ���⛪ @ Catedral de Santo Antônio - Governador ...  Leonardo C Schneider   \n",
       "1  � @ Governador Valadares, Minas Gerais https:/...               Wândell   \n",
       "2  �� @ Governador Valadares, Minas Gerais https:...               Wândell   \n",
       "3                        ��� https://t.co/BnDsO34qK0         Ana estudando   \n",
       "4  ��� PSOL vai questionar aumento de vereadores ...                 Emily   \n",
       "\n",
       "  User Screen Name  Retweet Count Classificacao  \n",
       "0    LeoCSchneider              0        Neutro  \n",
       "1         klefnews              0        Neutro  \n",
       "2         klefnews              0        Neutro  \n",
       "3  estudandoconcur              0        Neutro  \n",
       "4         Milly777              0      Negativo  "
      ]
     },
     "execution_count": 2,
     "metadata": {},
     "output_type": "execute_result"
    }
   ],
   "source": [
    "data = pd.read_csv('tweets_mg.csv', index_col=0)\n",
    "data = data.dropna(axis=1)\n",
    "print(data.shape)\n",
    "data.head()"
   ]
  },
  {
   "cell_type": "code",
   "execution_count": 3,
   "id": "expensive-network",
   "metadata": {},
   "outputs": [
    {
     "data": {
      "text/plain": [
       "Created At          7945\n",
       "Text                5765\n",
       "Username            3907\n",
       "User Screen Name    3966\n",
       "Retweet Count        113\n",
       "Classificacao          3\n",
       "dtype: int64"
      ]
     },
     "execution_count": 3,
     "metadata": {},
     "output_type": "execute_result"
    }
   ],
   "source": [
    "data.nunique()"
   ]
  },
  {
   "cell_type": "markdown",
   "id": "educated-dating",
   "metadata": {},
   "source": [
    "## Pré processamento dos tweets"
   ]
  },
  {
   "cell_type": "markdown",
   "id": "tamil-disposal",
   "metadata": {},
   "source": [
    "Muitos tweets possuem caracteres que atrapalham a análise. Essa seção pretende resolver esses problemas filtrando os caracteres desnecessários do texto."
   ]
  },
  {
   "cell_type": "code",
   "execution_count": 4,
   "id": "controlled-tension",
   "metadata": {},
   "outputs": [],
   "source": [
    "import re\n",
    "\n",
    "class Filtro:\n",
    "    def __init__(self):\n",
    "        pass\n",
    "    \n",
    "    def fit(self, x):\n",
    "        return x\n",
    "    \n",
    "    def transform(self, x):\n",
    "        import numpy as np\n",
    "        \n",
    "        x = x.copy()\n",
    "        \n",
    "        return np.vectorize(self.filtro_texto)(x)\n",
    "\n",
    "    \n",
    "    @staticmethod\n",
    "    def filtro_texto(text):\n",
    "        \n",
    "        # Filtra menções\n",
    "        text = re.sub(r'@\\w+', '', text)\n",
    "\n",
    "        # Filtra URLs\n",
    "        text = re.sub(r'http.?://[^\\s]+[\\s]?', '', text)\n",
    "\n",
    "        # Filtra tudo o que não são letras\n",
    "        text = re.sub('[^a-zA-Z\\s]', '', text)\n",
    "\n",
    "        # Retira espaços extras\n",
    "        text = re.sub(\"\\s{2,}\", '', text)\n",
    "        text = text.lstrip()\n",
    "        text = text.rstrip()\n",
    "\n",
    "        # Deixa todo o texto em minúsculo\n",
    "        text = text.lower()\n",
    "\n",
    "        return text\n",
    "\n"
   ]
  },
  {
   "cell_type": "code",
   "execution_count": 5,
   "id": "billion-password",
   "metadata": {},
   "outputs": [],
   "source": [
    "f = Filtro()"
   ]
  },
  {
   "cell_type": "code",
   "execution_count": 6,
   "id": "parallel-therapist",
   "metadata": {},
   "outputs": [],
   "source": [
    "data['Text'] = f.transform(data['Text'].values)"
   ]
  },
  {
   "cell_type": "code",
   "execution_count": 7,
   "id": "stretch-hundred",
   "metadata": {},
   "outputs": [
    {
     "data": {
      "text/html": [
       "<div>\n",
       "<style scoped>\n",
       "    .dataframe tbody tr th:only-of-type {\n",
       "        vertical-align: middle;\n",
       "    }\n",
       "\n",
       "    .dataframe tbody tr th {\n",
       "        vertical-align: top;\n",
       "    }\n",
       "\n",
       "    .dataframe thead th {\n",
       "        text-align: right;\n",
       "    }\n",
       "</style>\n",
       "<table border=\"1\" class=\"dataframe\">\n",
       "  <thead>\n",
       "    <tr style=\"text-align: right;\">\n",
       "      <th></th>\n",
       "      <th>Created At</th>\n",
       "      <th>Text</th>\n",
       "      <th>Username</th>\n",
       "      <th>User Screen Name</th>\n",
       "      <th>Retweet Count</th>\n",
       "      <th>Classificacao</th>\n",
       "    </tr>\n",
       "  </thead>\n",
       "  <tbody>\n",
       "    <tr>\n",
       "      <th>0</th>\n",
       "      <td>Sun Jan 08 01:22:05 +0000 2017</td>\n",
       "      <td>catedral de santo antniogovernador valadaresmg</td>\n",
       "      <td>Leonardo C Schneider</td>\n",
       "      <td>LeoCSchneider</td>\n",
       "      <td>0</td>\n",
       "      <td>Neutro</td>\n",
       "    </tr>\n",
       "    <tr>\n",
       "      <th>1</th>\n",
       "      <td>Sun Jan 08 01:49:01 +0000 2017</td>\n",
       "      <td>governador valadares minas gerais</td>\n",
       "      <td>Wândell</td>\n",
       "      <td>klefnews</td>\n",
       "      <td>0</td>\n",
       "      <td>Neutro</td>\n",
       "    </tr>\n",
       "    <tr>\n",
       "      <th>2</th>\n",
       "      <td>Sun Jan 08 01:01:46 +0000 2017</td>\n",
       "      <td>governador valadares minas gerais</td>\n",
       "      <td>Wândell</td>\n",
       "      <td>klefnews</td>\n",
       "      <td>0</td>\n",
       "      <td>Neutro</td>\n",
       "    </tr>\n",
       "    <tr>\n",
       "      <th>3</th>\n",
       "      <td>Wed Jan 04 21:43:51 +0000 2017</td>\n",
       "      <td></td>\n",
       "      <td>Ana estudando</td>\n",
       "      <td>estudandoconcur</td>\n",
       "      <td>0</td>\n",
       "      <td>Neutro</td>\n",
       "    </tr>\n",
       "    <tr>\n",
       "      <th>4</th>\n",
       "      <td>Mon Jan 09 15:08:21 +0000 2017</td>\n",
       "      <td>psol vai questionar aumento de vereadores e pr...</td>\n",
       "      <td>Emily</td>\n",
       "      <td>Milly777</td>\n",
       "      <td>0</td>\n",
       "      <td>Negativo</td>\n",
       "    </tr>\n",
       "  </tbody>\n",
       "</table>\n",
       "</div>"
      ],
      "text/plain": [
       "                       Created At  \\\n",
       "0  Sun Jan 08 01:22:05 +0000 2017   \n",
       "1  Sun Jan 08 01:49:01 +0000 2017   \n",
       "2  Sun Jan 08 01:01:46 +0000 2017   \n",
       "3  Wed Jan 04 21:43:51 +0000 2017   \n",
       "4  Mon Jan 09 15:08:21 +0000 2017   \n",
       "\n",
       "                                                Text              Username  \\\n",
       "0     catedral de santo antniogovernador valadaresmg  Leonardo C Schneider   \n",
       "1                  governador valadares minas gerais               Wândell   \n",
       "2                  governador valadares minas gerais               Wândell   \n",
       "3                                                            Ana estudando   \n",
       "4  psol vai questionar aumento de vereadores e pr...                 Emily   \n",
       "\n",
       "  User Screen Name  Retweet Count Classificacao  \n",
       "0    LeoCSchneider              0        Neutro  \n",
       "1         klefnews              0        Neutro  \n",
       "2         klefnews              0        Neutro  \n",
       "3  estudandoconcur              0        Neutro  \n",
       "4         Milly777              0      Negativo  "
      ]
     },
     "execution_count": 7,
     "metadata": {},
     "output_type": "execute_result"
    }
   ],
   "source": [
    "data.head()"
   ]
  },
  {
   "cell_type": "markdown",
   "id": "vietnamese-isolation",
   "metadata": {},
   "source": [
    "## Tokenização e stem"
   ]
  },
  {
   "cell_type": "code",
   "execution_count": 8,
   "id": "perceived-average",
   "metadata": {},
   "outputs": [],
   "source": [
    "class Processamento:\n",
    "    def __init__(self):\n",
    "        from nltk.stem import RSLPStemmer\n",
    "        \n",
    "        stop_words = pd.read_csv('stopwords_pt.txt', names=['words']).iloc[:,0]\n",
    "        self.stop_words = stop_words.apply(lambda x: x.rstrip())\n",
    "        \n",
    "        self.st = RSLPStemmer()\n",
    "    \n",
    "    def fit(self, x):\n",
    "        return x\n",
    "    \n",
    "    def transform(self, x):\n",
    "        import re\n",
    "        import numpy as np\n",
    "        \n",
    "        x = x.copy()\n",
    "        \n",
    "        return np.vectorize(self.stemming)(x)\n",
    "    \n",
    "    def stemming(self, text):\n",
    "    #     doc = nlp(text)\n",
    "    #     tokenized = [token.text for token in doc if token.text not in stop_words.values]\n",
    "\n",
    "    #     token = text.split(' ')\n",
    "    #     token = [st.stem(tk) for tk in token if (tk not in stop_words.values) and (len(tk) > 0)]\n",
    "\n",
    "        f = lambda x: self.st.stem(x) if len(x) > 0 else None\n",
    "\n",
    "        text = f(text)\n",
    "\n",
    "        return text\n"
   ]
  },
  {
   "cell_type": "code",
   "execution_count": 9,
   "id": "organic-metro",
   "metadata": {},
   "outputs": [],
   "source": [
    "proc = Processamento()"
   ]
  },
  {
   "cell_type": "code",
   "execution_count": 10,
   "id": "outer-calvin",
   "metadata": {},
   "outputs": [],
   "source": [
    "data['token'] = proc.transform(data['Text'].values)"
   ]
  },
  {
   "cell_type": "code",
   "execution_count": 11,
   "id": "brazilian-advancement",
   "metadata": {},
   "outputs": [
    {
     "data": {
      "text/html": [
       "<div>\n",
       "<style scoped>\n",
       "    .dataframe tbody tr th:only-of-type {\n",
       "        vertical-align: middle;\n",
       "    }\n",
       "\n",
       "    .dataframe tbody tr th {\n",
       "        vertical-align: top;\n",
       "    }\n",
       "\n",
       "    .dataframe thead th {\n",
       "        text-align: right;\n",
       "    }\n",
       "</style>\n",
       "<table border=\"1\" class=\"dataframe\">\n",
       "  <thead>\n",
       "    <tr style=\"text-align: right;\">\n",
       "      <th></th>\n",
       "      <th>Created At</th>\n",
       "      <th>Text</th>\n",
       "      <th>Username</th>\n",
       "      <th>User Screen Name</th>\n",
       "      <th>Retweet Count</th>\n",
       "      <th>Classificacao</th>\n",
       "      <th>token</th>\n",
       "    </tr>\n",
       "  </thead>\n",
       "  <tbody>\n",
       "    <tr>\n",
       "      <th>0</th>\n",
       "      <td>Sun Jan 08 01:22:05 +0000 2017</td>\n",
       "      <td>catedral de santo antniogovernador valadaresmg</td>\n",
       "      <td>Leonardo C Schneider</td>\n",
       "      <td>LeoCSchneider</td>\n",
       "      <td>0</td>\n",
       "      <td>Neutro</td>\n",
       "      <td>catedral de santo antniogovernador valadaresmg</td>\n",
       "    </tr>\n",
       "    <tr>\n",
       "      <th>1</th>\n",
       "      <td>Sun Jan 08 01:49:01 +0000 2017</td>\n",
       "      <td>governador valadares minas gerais</td>\n",
       "      <td>Wândell</td>\n",
       "      <td>klefnews</td>\n",
       "      <td>0</td>\n",
       "      <td>Neutro</td>\n",
       "      <td>governador valadares minas ger</td>\n",
       "    </tr>\n",
       "    <tr>\n",
       "      <th>2</th>\n",
       "      <td>Sun Jan 08 01:01:46 +0000 2017</td>\n",
       "      <td>governador valadares minas gerais</td>\n",
       "      <td>Wândell</td>\n",
       "      <td>klefnews</td>\n",
       "      <td>0</td>\n",
       "      <td>Neutro</td>\n",
       "      <td>governador valadares minas ger</td>\n",
       "    </tr>\n",
       "    <tr>\n",
       "      <th>3</th>\n",
       "      <td>Wed Jan 04 21:43:51 +0000 2017</td>\n",
       "      <td></td>\n",
       "      <td>Ana estudando</td>\n",
       "      <td>estudandoconcur</td>\n",
       "      <td>0</td>\n",
       "      <td>Neutro</td>\n",
       "      <td>None</td>\n",
       "    </tr>\n",
       "    <tr>\n",
       "      <th>4</th>\n",
       "      <td>Mon Jan 09 15:08:21 +0000 2017</td>\n",
       "      <td>psol vai questionar aumento de vereadores e pr...</td>\n",
       "      <td>Emily</td>\n",
       "      <td>Milly777</td>\n",
       "      <td>0</td>\n",
       "      <td>Negativo</td>\n",
       "      <td>psol vai questionar aumento de vereadores e pr...</td>\n",
       "    </tr>\n",
       "  </tbody>\n",
       "</table>\n",
       "</div>"
      ],
      "text/plain": [
       "                       Created At  \\\n",
       "0  Sun Jan 08 01:22:05 +0000 2017   \n",
       "1  Sun Jan 08 01:49:01 +0000 2017   \n",
       "2  Sun Jan 08 01:01:46 +0000 2017   \n",
       "3  Wed Jan 04 21:43:51 +0000 2017   \n",
       "4  Mon Jan 09 15:08:21 +0000 2017   \n",
       "\n",
       "                                                Text              Username  \\\n",
       "0     catedral de santo antniogovernador valadaresmg  Leonardo C Schneider   \n",
       "1                  governador valadares minas gerais               Wândell   \n",
       "2                  governador valadares minas gerais               Wândell   \n",
       "3                                                            Ana estudando   \n",
       "4  psol vai questionar aumento de vereadores e pr...                 Emily   \n",
       "\n",
       "  User Screen Name  Retweet Count Classificacao  \\\n",
       "0    LeoCSchneider              0        Neutro   \n",
       "1         klefnews              0        Neutro   \n",
       "2         klefnews              0        Neutro   \n",
       "3  estudandoconcur              0        Neutro   \n",
       "4         Milly777              0      Negativo   \n",
       "\n",
       "                                               token  \n",
       "0     catedral de santo antniogovernador valadaresmg  \n",
       "1                     governador valadares minas ger  \n",
       "2                     governador valadares minas ger  \n",
       "3                                               None  \n",
       "4  psol vai questionar aumento de vereadores e pr...  "
      ]
     },
     "execution_count": 11,
     "metadata": {},
     "output_type": "execute_result"
    }
   ],
   "source": [
    "data.head()"
   ]
  },
  {
   "cell_type": "markdown",
   "id": "caroline-prize",
   "metadata": {},
   "source": [
    "## Extração de features"
   ]
  },
  {
   "cell_type": "markdown",
   "id": "higher-meeting",
   "metadata": {},
   "source": [
    "Para esse primeiro modelo, usaremos um simples bag of words"
   ]
  },
  {
   "cell_type": "code",
   "execution_count": 12,
   "id": "threaded-germany",
   "metadata": {},
   "outputs": [
    {
     "name": "stdout",
     "output_type": "stream",
     "text": [
      "(8199, 2)\n"
     ]
    },
    {
     "data": {
      "text/html": [
       "<div>\n",
       "<style scoped>\n",
       "    .dataframe tbody tr th:only-of-type {\n",
       "        vertical-align: middle;\n",
       "    }\n",
       "\n",
       "    .dataframe tbody tr th {\n",
       "        vertical-align: top;\n",
       "    }\n",
       "\n",
       "    .dataframe thead th {\n",
       "        text-align: right;\n",
       "    }\n",
       "</style>\n",
       "<table border=\"1\" class=\"dataframe\">\n",
       "  <thead>\n",
       "    <tr style=\"text-align: right;\">\n",
       "      <th></th>\n",
       "      <th>token</th>\n",
       "      <th>Classificacao</th>\n",
       "    </tr>\n",
       "  </thead>\n",
       "  <tbody>\n",
       "    <tr>\n",
       "      <th>0</th>\n",
       "      <td>catedral de santo antniogovernador valadaresmg</td>\n",
       "      <td>Neutro</td>\n",
       "    </tr>\n",
       "    <tr>\n",
       "      <th>1</th>\n",
       "      <td>governador valadares minas ger</td>\n",
       "      <td>Neutro</td>\n",
       "    </tr>\n",
       "    <tr>\n",
       "      <th>2</th>\n",
       "      <td>governador valadares minas ger</td>\n",
       "      <td>Neutro</td>\n",
       "    </tr>\n",
       "    <tr>\n",
       "      <th>3</th>\n",
       "      <td>None</td>\n",
       "      <td>Neutro</td>\n",
       "    </tr>\n",
       "    <tr>\n",
       "      <th>4</th>\n",
       "      <td>psol vai questionar aumento de vereadores e pr...</td>\n",
       "      <td>Negativo</td>\n",
       "    </tr>\n",
       "  </tbody>\n",
       "</table>\n",
       "</div>"
      ],
      "text/plain": [
       "                                               token Classificacao\n",
       "0     catedral de santo antniogovernador valadaresmg        Neutro\n",
       "1                     governador valadares minas ger        Neutro\n",
       "2                     governador valadares minas ger        Neutro\n",
       "3                                               None        Neutro\n",
       "4  psol vai questionar aumento de vereadores e pr...      Negativo"
      ]
     },
     "execution_count": 12,
     "metadata": {},
     "output_type": "execute_result"
    }
   ],
   "source": [
    "data = data.dropna(subset=['token'])\n",
    "data = data[['token', 'Classificacao']]\n",
    "print(data.shape)\n",
    "data.head()"
   ]
  },
  {
   "cell_type": "code",
   "execution_count": 13,
   "id": "cognitive-burning",
   "metadata": {},
   "outputs": [],
   "source": [
    "from sklearn.feature_extraction.text import CountVectorizer\n",
    "vectorizer = CountVectorizer(min_df=5, max_df=.75)\n"
   ]
  },
  {
   "cell_type": "code",
   "execution_count": 14,
   "id": "genetic-clark",
   "metadata": {},
   "outputs": [
    {
     "name": "stdout",
     "output_type": "stream",
     "text": [
      "(8199, 1739)\n",
      "(8199,)\n"
     ]
    }
   ],
   "source": [
    "X = vectorizer.fit_transform(data['token'])\n",
    "y = data['Classificacao']\n",
    "\n",
    "print(X.shape)\n",
    "print(y.shape)"
   ]
  },
  {
   "cell_type": "code",
   "execution_count": 15,
   "id": "sweet-coordinate",
   "metadata": {},
   "outputs": [
    {
     "name": "stdout",
     "output_type": "stream",
     "text": [
      "(6149, 1739) (6149,)\n",
      "(2050, 1739) (2050,)\n"
     ]
    }
   ],
   "source": [
    "from sklearn.model_selection import train_test_split\n",
    "\n",
    "X_train, X_test, y_train, y_test = train_test_split(X, y, test_size=0.25, random_state=12)\n",
    "\n",
    "print(X_train.shape, y_train.shape)\n",
    "print(X_test.shape, y_test.shape)"
   ]
  },
  {
   "cell_type": "code",
   "execution_count": 16,
   "id": "placed-bargain",
   "metadata": {},
   "outputs": [
    {
     "data": {
      "text/plain": [
       "RandomForestClassifier(max_depth=10, min_samples_leaf=10)"
      ]
     },
     "execution_count": 16,
     "metadata": {},
     "output_type": "execute_result"
    }
   ],
   "source": [
    "from sklearn.linear_model import LogisticRegression\n",
    "from sklearn.ensemble import RandomForestClassifier\n",
    "\n",
    "# clf = LogisticRegression(C=0.5)\n",
    "clf = RandomForestClassifier(max_depth=10, min_samples_leaf=10)\n",
    "\n",
    "clf.fit(X_train, y_train)"
   ]
  },
  {
   "cell_type": "code",
   "execution_count": 17,
   "id": "amazing-education",
   "metadata": {},
   "outputs": [
    {
     "name": "stdout",
     "output_type": "stream",
     "text": [
      "Resultados para o conjunto de treino\n",
      "\n",
      "\n",
      "              precision    recall  f1-score   support\n",
      "\n",
      "    Negativo       0.98      0.79      0.88      1842\n",
      "      Neutro       0.81      0.72      0.76      1840\n",
      "    Positivo       0.78      0.96      0.86      2467\n",
      "\n",
      "    accuracy                           0.84      6149\n",
      "   macro avg       0.86      0.82      0.83      6149\n",
      "weighted avg       0.85      0.84      0.84      6149\n",
      "\n",
      "Resultados para o conjunto de teste\n",
      "\n",
      "\n",
      "              precision    recall  f1-score   support\n",
      "\n",
      "    Negativo       0.98      0.77      0.86       604\n",
      "      Neutro       0.80      0.73      0.76       613\n",
      "    Positivo       0.78      0.96      0.86       833\n",
      "\n",
      "    accuracy                           0.83      2050\n",
      "   macro avg       0.86      0.82      0.83      2050\n",
      "weighted avg       0.85      0.83      0.83      2050\n",
      "\n"
     ]
    }
   ],
   "source": [
    "from sklearn.metrics import classification_report\n",
    "\n",
    "print('Resultados para o conjunto de treino\\n\\n')\n",
    "\n",
    "print(classification_report(y_train, clf.predict(X_train),))\n",
    "\n",
    "\n",
    "print('Resultados para o conjunto de teste\\n\\n')\n",
    "\n",
    "print(classification_report(y_test, clf.predict(X_test),))"
   ]
  },
  {
   "cell_type": "code",
   "execution_count": 18,
   "id": "noticed-victoria",
   "metadata": {},
   "outputs": [
    {
     "data": {
      "text/html": [
       "<div>\n",
       "<style scoped>\n",
       "    .dataframe tbody tr th:only-of-type {\n",
       "        vertical-align: middle;\n",
       "    }\n",
       "\n",
       "    .dataframe tbody tr th {\n",
       "        vertical-align: top;\n",
       "    }\n",
       "\n",
       "    .dataframe thead th {\n",
       "        text-align: right;\n",
       "    }\n",
       "</style>\n",
       "<table border=\"1\" class=\"dataframe\">\n",
       "  <thead>\n",
       "    <tr style=\"text-align: right;\">\n",
       "      <th></th>\n",
       "      <th>feature</th>\n",
       "      <th>importance</th>\n",
       "    </tr>\n",
       "  </thead>\n",
       "  <tbody>\n",
       "    <tr>\n",
       "      <th>701</th>\n",
       "      <td>governo</td>\n",
       "      <td>0.069469</td>\n",
       "    </tr>\n",
       "    <tr>\n",
       "      <th>295</th>\n",
       "      <td>compra</td>\n",
       "      <td>0.059660</td>\n",
       "    </tr>\n",
       "    <tr>\n",
       "      <th>203</th>\n",
       "      <td>calamidade</td>\n",
       "      <td>0.056612</td>\n",
       "    </tr>\n",
       "    <tr>\n",
       "      <th>468</th>\n",
       "      <td>drogas</td>\n",
       "      <td>0.043232</td>\n",
       "    </tr>\n",
       "    <tr>\n",
       "      <th>631</th>\n",
       "      <td>financeira</td>\n",
       "      <td>0.042139</td>\n",
       "    </tr>\n",
       "  </tbody>\n",
       "</table>\n",
       "</div>"
      ],
      "text/plain": [
       "        feature  importance\n",
       "701     governo    0.069469\n",
       "295      compra    0.059660\n",
       "203  calamidade    0.056612\n",
       "468      drogas    0.043232\n",
       "631  financeira    0.042139"
      ]
     },
     "execution_count": 18,
     "metadata": {},
     "output_type": "execute_result"
    }
   ],
   "source": [
    "df_features = pd.DataFrame(columns=['feature', 'importance'])\n",
    "df_features['feature'] = vectorizer.get_feature_names()\n",
    "df_features['importance'] = clf.feature_importances_\n",
    "df_features = df_features.sort_values('importance', ascending=False)\n",
    "df_features.head()"
   ]
  },
  {
   "cell_type": "markdown",
   "id": "natural-tanzania",
   "metadata": {},
   "source": [
    "## Construção da pipeline"
   ]
  },
  {
   "cell_type": "code",
   "execution_count": 19,
   "id": "pregnant-harassment",
   "metadata": {},
   "outputs": [],
   "source": [
    "from sklearn.pipeline import Pipeline"
   ]
  },
  {
   "cell_type": "code",
   "execution_count": 20,
   "id": "tired-procedure",
   "metadata": {},
   "outputs": [],
   "source": [
    "p = Pipeline([('Filtro', f), ('Processamento', proc), ('Vetorizacao', vectorizer), ('Modelo', clf)])"
   ]
  },
  {
   "cell_type": "markdown",
   "id": "italic-crown",
   "metadata": {},
   "source": [
    "## Salvando modelo e parâmetros"
   ]
  },
  {
   "cell_type": "code",
   "execution_count": 21,
   "id": "accompanied-literature",
   "metadata": {},
   "outputs": [],
   "source": [
    "import logging_mlflow as lm"
   ]
  },
  {
   "cell_type": "code",
   "execution_count": 22,
   "id": "constitutional-victory",
   "metadata": {},
   "outputs": [],
   "source": [
    "proj_tags = {'Cientista': 'Helder'}\n",
    "mlflow_uri = 'http://web:5000'\n",
    "experiment = 'sentimento_twitter_v0'\n",
    "\n",
    "\n",
    "logger = lm.LogMLflow(mlflow_uri=mlflow_uri, proj_tags=proj_tags, mlflow_experiment=experiment)"
   ]
  },
  {
   "cell_type": "code",
   "execution_count": 37,
   "id": "stretch-brighton",
   "metadata": {},
   "outputs": [
    {
     "data": {
      "text/plain": [
       "Logger MLFlow. Experiment: sentimento_twitter_v0"
      ]
     },
     "execution_count": 37,
     "metadata": {},
     "output_type": "execute_result"
    }
   ],
   "source": [
    "logger.send_logs(\n",
    "    model_params={\n",
    "        'modelo': 'RandomForest',\n",
    "        'max_depth': 10,\n",
    "        'min_samples_leaf': 10,\n",
    "    },\n",
    "    training_metrics={\n",
    "        'f1-score_train': .84,\n",
    "        'f1-score_test': .84,\n",
    "    }\n",
    ")\n"
   ]
  },
  {
   "cell_type": "code",
   "execution_count": 27,
   "id": "lonely-exception",
   "metadata": {},
   "outputs": [],
   "source": [
    "import os\n",
    "os.environ['AWS_ACCESS_KEY_ID'] = \"minioadmin\"\n",
    "os.environ['AWS_SECRET_ACCESS_KEY'] = \"minioadmin\""
   ]
  },
  {
   "cell_type": "code",
   "execution_count": 30,
   "id": "surprised-output",
   "metadata": {},
   "outputs": [],
   "source": [
    "os.environ['MLFLOW_S3_ENDPOINT_URL'] = 'http://minio:9000'"
   ]
  },
  {
   "cell_type": "code",
   "execution_count": null,
   "id": "ranging-williams",
   "metadata": {},
   "outputs": [],
   "source": [
    "p"
   ]
  },
  {
   "cell_type": "code",
   "execution_count": 38,
   "id": "blank-creativity",
   "metadata": {},
   "outputs": [
    {
     "name": "stderr",
     "output_type": "stream",
     "text": [
      "Registered model 'analisador_sentimento' already exists. Creating a new version of this model...\n",
      "2021/05/25 23:49:18 INFO mlflow.tracking._model_registry.client: Waiting up to 300 seconds for model version to finish creation.                     Model name: analisador_sentimento, version 2\n",
      "Created version '2' of model 'analisador_sentimento'.\n"
     ]
    }
   ],
   "source": [
    "logger.save_model(p, 'sklearn', 'analisador_sentimento')"
   ]
  },
  {
   "cell_type": "code",
   "execution_count": null,
   "id": "thermal-corps",
   "metadata": {},
   "outputs": [],
   "source": [
    "p.predict(['Teste'])[0]"
   ]
  }
 ],
 "metadata": {
  "kernelspec": {
   "display_name": "Python 3",
   "language": "python",
   "name": "python3"
  },
  "language_info": {
   "codemirror_mode": {
    "name": "ipython",
    "version": 3
   },
   "file_extension": ".py",
   "mimetype": "text/x-python",
   "name": "python",
   "nbconvert_exporter": "python",
   "pygments_lexer": "ipython3",
   "version": "3.7.10"
  }
 },
 "nbformat": 4,
 "nbformat_minor": 5
}
